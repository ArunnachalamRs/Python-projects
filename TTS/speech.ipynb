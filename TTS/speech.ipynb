{
 "cells": [
  {
   "cell_type": "code",
   "execution_count": 3,
   "metadata": {},
   "outputs": [
    {
     "name": "stdout",
     "output_type": "stream",
     "text": [
      "Requirement already satisfied: gTTS in c:\\users\\arunnachalam\\appdata\\local\\programs\\python\\python39\\lib\\site-packages (2.5.3)\n",
      "Requirement already satisfied: click<8.2,>=7.1 in c:\\users\\arunnachalam\\appdata\\local\\programs\\python\\python39\\lib\\site-packages (from gTTS) (8.1.7)\n",
      "Requirement already satisfied: requests<3,>=2.27 in c:\\users\\arunnachalam\\appdata\\local\\programs\\python\\python39\\lib\\site-packages (from gTTS) (2.32.3)\n",
      "Requirement already satisfied: colorama; platform_system == \"Windows\" in c:\\users\\arunnachalam\\appdata\\local\\programs\\python\\python39\\lib\\site-packages (from click<8.2,>=7.1->gTTS) (0.4.4)\n",
      "Requirement already satisfied: idna<4,>=2.5 in c:\\users\\arunnachalam\\appdata\\local\\programs\\python\\python39\\lib\\site-packages (from requests<3,>=2.27->gTTS) (2.10)\n",
      "Requirement already satisfied: urllib3<3,>=1.21.1 in c:\\users\\arunnachalam\\appdata\\local\\programs\\python\\python39\\lib\\site-packages (from requests<3,>=2.27->gTTS) (1.26.18)\n",
      "Requirement already satisfied: certifi>=2017.4.17 in c:\\users\\arunnachalam\\appdata\\local\\programs\\python\\python39\\lib\\site-packages (from requests<3,>=2.27->gTTS) (2023.7.22)\n",
      "Requirement already satisfied: charset-normalizer<4,>=2 in c:\\users\\arunnachalam\\appdata\\local\\programs\\python\\python39\\lib\\site-packages (from requests<3,>=2.27->gTTS) (2.0.12)\n"
     ]
    },
    {
     "name": "stderr",
     "output_type": "stream",
     "text": [
      "WARNING: You are using pip version 20.2.3; however, version 24.3.1 is available.\n",
      "You should consider upgrading via the 'c:\\users\\arunnachalam\\appdata\\local\\programs\\python\\python39\\python.exe -m pip install --upgrade pip' command.\n"
     ]
    }
   ],
   "source": [
    "#import packages\n",
    "\n",
    "!pip install gTTS"
   ]
  },
  {
   "cell_type": "code",
   "execution_count": 8,
   "metadata": {},
   "outputs": [],
   "source": [
    "from gtts import gTTS\n",
    "import os"
   ]
  },
  {
   "cell_type": "code",
   "execution_count": 12,
   "metadata": {},
   "outputs": [],
   "source": [
    "#convert Text To Speech \n",
    "def text_to_speech(text,language='en'):\n",
    "    tts=gTTS(text=text,lang=language,slow=False)\n",
    "\n",
    "    filename=\"Speech.mp3\"\n",
    "    tts.save(filename)  #save audio\n",
    "\n",
    "    os.system(f\"start {filename}\" if os.name=='nt'else f\"mpg321 {filename}\") #play speech\n",
    "\n",
    "    #get user text\n",
    "user_text=input(\"enter the text:\")\n",
    "\n",
    "    #convert text to speech\n",
    "text_to_speech(user_text)\n",
    "\n",
    "\n",
    "\n",
    "\n",
    "\n",
    "\n"
   ]
  }
 ],
 "metadata": {
  "kernelspec": {
   "display_name": "Python 3",
   "language": "python",
   "name": "python3"
  },
  "language_info": {
   "codemirror_mode": {
    "name": "ipython",
    "version": 3
   },
   "file_extension": ".py",
   "mimetype": "text/x-python",
   "name": "python",
   "nbconvert_exporter": "python",
   "pygments_lexer": "ipython3",
   "version": "3.9.2"
  }
 },
 "nbformat": 4,
 "nbformat_minor": 2
}
